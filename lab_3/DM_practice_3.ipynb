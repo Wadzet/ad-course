{
  "nbformat": 4,
  "nbformat_minor": 0,
  "metadata": {
    "colab": {
      "provenance": []
    },
    "kernelspec": {
      "name": "python3",
      "display_name": "Python 3"
    },
    "language_info": {
      "name": "python"
    }
  },
  "cells": [
    {
      "cell_type": "markdown",
      "source": [
        "# **Лабораторна робота 3**\n",
        "\n",
        "Для виконання цієї лабораторної робити Вам необхідно використати набори даних, що ви створили в **Лабораторній роботі 2**.\n",
        "\n",
        "**Всі завдання виконуються індивідуально. Використання запозиченого коду буде оцінюватись в 0 балів.**"
      ],
      "metadata": {
        "id": "0k_GncttFw0b"
      }
    },
    {
      "cell_type": "markdown",
      "source": [
        "**Завдання 1.** Ви маєте набір даних, який складається з двох лінійно роздільних класів. Вам необхідно застосувати під цей набір даних мінімум **3  моледі машинного навчання** для класифікації цих даних та оцінити їх продуктивність.\n",
        "\n",
        "**Пояснення до завдання 1:**\n",
        "\n",
        "- обрати 3 моделі для класифікації даних та навчити їх;\n",
        "- оцінити їх продуктивність за допомогою трьох метрик точності;\n",
        "- візуалізувати розподіл даних та межі класифікації кожної моделі;\n",
        "- провести аналіз отриманих результатів, виявляючи, яка модель найкраще підходить для цього набору даних та чому."
      ],
      "metadata": {
        "id": "9D-HOiM_-ZCw"
      }
    },
    {
      "cell_type": "code",
      "execution_count": null,
      "metadata": {
        "id": "tbFTHCQe9lTJ"
      },
      "outputs": [],
      "source": [
        "# code"
      ]
    },
    {
      "cell_type": "code",
      "source": [
        "# code"
      ],
      "metadata": {
        "id": "CsOFU24BAOVh"
      },
      "execution_count": null,
      "outputs": []
    },
    {
      "cell_type": "code",
      "source": [
        "# code"
      ],
      "metadata": {
        "id": "6ZWvPq6qAONU"
      },
      "execution_count": null,
      "outputs": []
    },
    {
      "cell_type": "code",
      "source": [
        "# code"
      ],
      "metadata": {
        "id": "cH97WM3pAOEo"
      },
      "execution_count": null,
      "outputs": []
    },
    {
      "cell_type": "code",
      "source": [
        "# code"
      ],
      "metadata": {
        "id": "rfmmXSzsAN7T"
      },
      "execution_count": null,
      "outputs": []
    },
    {
      "cell_type": "code",
      "source": [
        "# code"
      ],
      "metadata": {
        "id": "mJLo0EI1ANvx"
      },
      "execution_count": null,
      "outputs": []
    },
    {
      "cell_type": "markdown",
      "source": [
        "**Аналіз отриманих результатів**:\n",
        "\n",
        "1.   ...\n",
        "2.   ...\n",
        "3.   ...  \n",
        "\n"
      ],
      "metadata": {
        "id": "OSw6McHxAPpc"
      }
    },
    {
      "cell_type": "markdown",
      "source": [
        "**Завдання 2.** Ви маєте набір даних, що містить три класи, які частково перетинаються. Вам необхідно застосувати під цей набір даних мінімум **3  моледі машинного навчання** для класифікації цих даних та оцінити їх продуктивність.\n",
        "\n",
        "**Пояснення до завдання 2:**\n",
        "\n",
        "- обрати 3 моделі для класифікації даних та навчити їх;\n",
        "- оцінити їх продуктивність за допомогою трьох метрик точності;\n",
        "- провести візуалізацію результатів класифікації, підкреслюючи області, де моделі помиляються.\n",
        "- подумайте та опишіть у висновках, як перекриття між класами впливає на продуктивність моделей і які методи найкраще справляються з цими даними.\n"
      ],
      "metadata": {
        "id": "p_jATNGCA01l"
      }
    },
    {
      "cell_type": "code",
      "source": [
        "# code"
      ],
      "metadata": {
        "id": "3RwMmg-wAo2r"
      },
      "execution_count": null,
      "outputs": []
    },
    {
      "cell_type": "code",
      "source": [
        "# code"
      ],
      "metadata": {
        "id": "HTiq_-NqBn-1"
      },
      "execution_count": null,
      "outputs": []
    },
    {
      "cell_type": "code",
      "source": [
        "# code"
      ],
      "metadata": {
        "id": "vc0STKi4Bn4R"
      },
      "execution_count": null,
      "outputs": []
    },
    {
      "cell_type": "code",
      "source": [
        "# code"
      ],
      "metadata": {
        "id": "yLQ_dN9mBnwT"
      },
      "execution_count": null,
      "outputs": []
    },
    {
      "cell_type": "code",
      "source": [
        "# code"
      ],
      "metadata": {
        "id": "NlrtuKbIBnjy"
      },
      "execution_count": null,
      "outputs": []
    },
    {
      "cell_type": "markdown",
      "source": [
        "**Аналіз отриманих результатів**:\n",
        "\n",
        "1.   ...\n",
        "2.   ...\n",
        "3.   ...  \n",
        "\n"
      ],
      "metadata": {
        "id": "12CGT7aBBteY"
      }
    },
    {
      "cell_type": "markdown",
      "source": [
        "**Завдання 3.** Ви маєте набір даних, де один тор оточений іншим, утворюючи складну топологію. Вам необхідно застосувати під цей набір даних мінімум **3  моледі машинного навчання** для класифікації цих даних та оцінити їх продуктивність.\n",
        "\n",
        "**Пояснення до завдання 3:**\n",
        "\n",
        "- обрати 3 моделі для класифікації даних та навчити їх;\n",
        "- оцінити їх продуктивність за допомогою трьох метрик точності;\n",
        "- побудувати візуалізацію результатів класифікації;\n",
        "- проаналізувати, яка модель найкраще адаптується до складної топології даних і чому."
      ],
      "metadata": {
        "id": "2ad2fOD6CLWj"
      }
    },
    {
      "cell_type": "code",
      "source": [
        "# code"
      ],
      "metadata": {
        "id": "y1fwddAMBxEK"
      },
      "execution_count": null,
      "outputs": []
    },
    {
      "cell_type": "code",
      "source": [
        "# code"
      ],
      "metadata": {
        "id": "wZ7zfI6ZC457"
      },
      "execution_count": null,
      "outputs": []
    },
    {
      "cell_type": "code",
      "source": [
        "# code"
      ],
      "metadata": {
        "id": "80OZX6OVC4wt"
      },
      "execution_count": null,
      "outputs": []
    },
    {
      "cell_type": "code",
      "source": [
        "# code"
      ],
      "metadata": {
        "id": "C0XnJaU9C4o6"
      },
      "execution_count": null,
      "outputs": []
    },
    {
      "cell_type": "code",
      "source": [
        "# code"
      ],
      "metadata": {
        "id": "VnuTkiJfC4gx"
      },
      "execution_count": null,
      "outputs": []
    },
    {
      "cell_type": "markdown",
      "source": [
        "**Аналіз отриманих результатів**:\n",
        "\n",
        "1.   ...\n",
        "2.   ...\n",
        "3.   ...  "
      ],
      "metadata": {
        "id": "egcENYqYC-AR"
      }
    },
    {
      "cell_type": "markdown",
      "source": [
        "**Завдання 4.** Ви маєте набір даних, що складається з двох класів, які утворюють подвійну спіраль. Вам необхідно застосувати під цей набір даних мінімум **3  моледі машинного навчання** для класифікації цих даних та оцінити їх продуктивність.\n",
        "\n",
        "**Пояснення до завдання 4:**\n",
        "\n",
        "- обрати 3 моделі для класифікації даних та навчити їх;\n",
        "- оцінити їх продуктивність за допомогою трьох метрик точності;\n",
        "- візуалізувати дані та межі класифікації кожної моделі для оцінки їх ефективності.\n",
        "- подумайте та напишіть у висновках, яка модель найкраще підходить для цього типу даних і як нелінійність впливає на процес класифікації."
      ],
      "metadata": {
        "id": "xvSSTyYMDKUm"
      }
    },
    {
      "cell_type": "code",
      "source": [
        "# code"
      ],
      "metadata": {
        "id": "DDJDM9ptFiTI"
      },
      "execution_count": null,
      "outputs": []
    },
    {
      "cell_type": "code",
      "source": [
        "# code"
      ],
      "metadata": {
        "id": "gtkIx0V1FiK5"
      },
      "execution_count": null,
      "outputs": []
    },
    {
      "cell_type": "code",
      "source": [
        "# code"
      ],
      "metadata": {
        "id": "hRkscmFqFiDl"
      },
      "execution_count": null,
      "outputs": []
    },
    {
      "cell_type": "code",
      "source": [
        "# code"
      ],
      "metadata": {
        "id": "pGO_nEB8Fh6l"
      },
      "execution_count": null,
      "outputs": []
    },
    {
      "cell_type": "code",
      "source": [
        "# code"
      ],
      "metadata": {
        "id": "fI7dzPXqC-8b"
      },
      "execution_count": null,
      "outputs": []
    },
    {
      "cell_type": "markdown",
      "source": [
        "**Аналіз отриманих результатів**:\n",
        "\n",
        "1.   ...\n",
        "2.   ...\n",
        "3.   ...  "
      ],
      "metadata": {
        "id": "XAzIXURHFpOs"
      }
    }
  ]
}